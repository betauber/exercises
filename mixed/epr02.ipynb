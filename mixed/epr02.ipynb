{
 "cells": [
  {
   "cell_type": "code",
   "execution_count": 5,
   "metadata": {},
   "outputs": [
    {
     "name": "stdout",
     "output_type": "stream",
     "text": [
      "3.5\n",
      "Is w: %f 3.1\n",
      "Is > 180: %f 3.6\n",
      "3.6\n",
      "Final: %f 3.0\n"
     ]
    }
   ],
   "source": [
    "student = (3.5, 'w', 190)\n",
    "\n",
    "n = student[0]\n",
    "print(n)\n",
    "\n",
    "if student[1] == 'w':\n",
    "    n -= 0.4\n",
    "    print(\"Is w: %f\", n)\n",
    "\n",
    "if student[2] > 180:\n",
    "    n += (student[2] - 180) * 0.05\n",
    "    print(\"Is > 180: %f\", n)\n",
    "\n",
    "print(n)\n",
    "n = n // 1\n",
    "print(\"Final: %f\", n)"
   ]
  },
  {
   "cell_type": "code",
   "execution_count": 30,
   "metadata": {},
   "outputs": [
    {
     "name": "stdout",
     "output_type": "stream",
     "text": [
      "dasäjfasjfä-+--fsäfjeiiwefdjasf454455#+äü56\n",
      "['a', 'd', 'e', 'f', 'i', 'j', 's', 'w', 'ä', 'ü'] 10\n",
      "False\n",
      "abcdefghijklmnopqrstuvwxyz\n",
      "['a', 'b', 'c', 'd', 'e', 'f', 'g', 'h', 'i', 'j', 'k', 'l', 'm', 'n', 'o', 'p', 'q', 'r', 's', 't', 'u', 'v', 'w', 'x', 'y', 'z'] 26\n",
      "True\n"
     ]
    }
   ],
   "source": [
    "import string\n",
    "\n",
    "def is_panagram(input):\n",
    "    print(input)\n",
    "    input = ''.join(e for e in input if e.isalpha())\n",
    "    input_list = list(set(input))\n",
    "    input_list.sort()\n",
    "    print(input_list, len(input_list))\n",
    "    if len(input_list) >= 26 and input_list[25] == 'z':\n",
    "        return True\n",
    "    return False\n",
    "\n",
    "s = \"dasäjfasjfä-+--fsäfjeiiwefdjasf454455#+äü56\"\n",
    "t = string.ascii_lowercase\n",
    "\n",
    "print(is_panagram(s))\n",
    "print(is_panagram(t))"
   ]
  }
 ],
 "metadata": {
  "kernelspec": {
   "display_name": "Python 3",
   "language": "python",
   "name": "python3"
  },
  "language_info": {
   "codemirror_mode": {
    "name": "ipython",
    "version": 3
   },
   "file_extension": ".py",
   "mimetype": "text/x-python",
   "name": "python",
   "nbconvert_exporter": "python",
   "pygments_lexer": "ipython3",
   "version": "3.6.1"
  }
 },
 "nbformat": 4,
 "nbformat_minor": 2
}
