{
 "cells": [
  {
   "cell_type": "markdown",
   "metadata": {},
   "source": [
    "student = (3.5, 'w', 190)\n",
    "\n",
    "n = student[0]\n",
    "print(n)\n",
    "\n",
    "if student[1] == 'm':\n",
    "    n -= 0.4\n",
    "    print(\"Is w: %f\", n)\n",
    "\n",
    "if student[2] > 180:\n",
    "    n += 0.05\n",
    "    print(\"Is > 180: %f\", n)\n",
    "\n",
    "print(\"Undrounded: %f\", n)\n",
    "n = n // 1\n",
    "print(\"FRounded: %f\", n)"
   ]
  },
  {
   "cell_type": "code",
   "execution_count": 5,
   "metadata": {},
   "outputs": [
    {
     "name": "stdout",
     "output_type": "stream",
     "text": [
      "3.5\n",
      "Is w: %f 3.1\n",
      "Is > 180: %f 3.6\n",
      "3.6\n",
      "Final: %f 3.0\n"
     ]
    }
   ],
   "source": [
    "student = (3.5, 'w', 190)\n",
    "\n",
    "n = student[0]\n",
    "print(n)\n",
    "\n",
    "if student[1] == 'w':\n",
    "    n -= 0.4\n",
    "    print(\"Is w: %f\", n)\n",
    "\n",
    "if student[2] > 180:\n",
    "    n += (student[2] - 180) * 0.05\n",
    "    print(\"Is > 180: %f\", n)\n",
    "\n",
    "print(n)\n",
    "n = n // 1\n",
    "print(\"Final: %f\", n)"
   ]
  },
  {
   "cell_type": "code",
   "execution_count": null,
   "metadata": {
    "collapsed": true
   },
   "outputs": [],
   "source": []
  }
 ],
 "metadata": {
  "kernelspec": {
   "display_name": "Python 3",
   "language": "python",
   "name": "python3"
  },
  "language_info": {
   "codemirror_mode": {
    "name": "ipython",
    "version": 3
   },
   "file_extension": ".py",
   "mimetype": "text/x-python",
   "name": "python",
   "nbconvert_exporter": "python",
   "pygments_lexer": "ipython3",
   "version": "3.6.1"
  }
 },
 "nbformat": 4,
 "nbformat_minor": 2
}
