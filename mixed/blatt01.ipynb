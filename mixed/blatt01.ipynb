{
 "cells": [
  {
   "cell_type": "code",
   "execution_count": 8,
   "metadata": {},
   "outputs": [
    {
     "name": "stdout",
     "output_type": "stream",
     "text": [
      "Zahlen : 1 2\n"
     ]
    }
   ],
   "source": [
    "a = 1\n",
    "b = 2\n",
    "c = 'Zahlen'\n",
    "\n",
    "\n",
    "print(c + ' : ' + str(a) + ' ' + str(b))"
   ]
  },
  {
   "cell_type": "code",
   "execution_count": 10,
   "metadata": {},
   "outputs": [
    {
     "name": "stdout",
     "output_type": "stream",
     "text": [
      "2* Text ist TextText\n"
     ]
    }
   ],
   "source": [
    "a = 2\n",
    "b = 'T' + 'e' + 'x' + 't'\n",
    "\n",
    "\n",
    "print('2* ' + b + ' ist ' + 2*b)"
   ]
  },
  {
   "cell_type": "code",
   "execution_count": 14,
   "metadata": {},
   "outputs": [
    {
     "name": "stdout",
     "output_type": "stream",
     "text": [
      "Max5\n"
     ]
    }
   ],
   "source": [
    "name = 'Max'\n",
    "age = 5\n",
    "print(name + str(age))"
   ]
  },
  {
   "cell_type": "code",
   "execution_count": 15,
   "metadata": {},
   "outputs": [
    {
     "name": "stdout",
     "output_type": "stream",
     "text": [
      "1370.75\n",
      "1370.75\n"
     ]
    }
   ],
   "source": [
    "def converter(celsius):\n",
    "    return celsius * 274.15\n",
    "\n",
    "f = lambda x : x*274.15\n",
    "celsius = 5\n",
    "\n",
    "print(converter(celsius))\n",
    "print(f(celsius))"
   ]
  },
  {
   "cell_type": "code",
   "execution_count": 23,
   "metadata": {},
   "outputs": [
    {
     "name": "stdout",
     "output_type": "stream",
     "text": [
      "0.8333333333333333\n",
      "0.7456349206349207\n",
      "0.7253718503718505\n",
      "0.6926474305598223\n",
      "From math lib:0.6931471805599453\n"
     ]
    }
   ],
   "source": [
    "import math\n",
    "\n",
    "def ln(n):\n",
    "    sum = 0\n",
    "    for k in range(1, n+1, 1):\n",
    "        summand = ((-1)**(k+1)) / k\n",
    "        #print(summand)\n",
    "        sum += summand\n",
    "    return sum\n",
    "\n",
    "print(ln(3))\n",
    "print(ln(9))\n",
    "print(ln(15))\n",
    "print(ln(1000))\n",
    "\n",
    "\n",
    "#print(\"From math lib:\" + str(math.log(2)))"
   ]
  },
  {
   "cell_type": "code",
   "execution_count": 1,
   "metadata": {},
   "outputs": [
    {
     "name": "stdout",
     "output_type": "stream",
     "text": [
      "['1', '2', '4', '16']\n",
      "23\n",
      "[1, 2, 4, 16]\n"
     ]
    },
    {
     "ename": "TypeError",
     "evalue": "unsupported operand type(s) for +: 'int' and 'str'",
     "output_type": "error",
     "traceback": [
      "\u001b[0;31m---------------------------------------------------------------------------\u001b[0m",
      "\u001b[0;31mTypeError\u001b[0m                                 Traceback (most recent call last)",
      "\u001b[0;32m<ipython-input-1-3f1ccdb7d212>\u001b[0m in \u001b[0;36m<module>\u001b[0;34m()\u001b[0m\n\u001b[1;32m     12\u001b[0m \u001b[0mnumbers_as_int\u001b[0m \u001b[0;34m=\u001b[0m \u001b[0mlist\u001b[0m\u001b[0;34m(\u001b[0m\u001b[0mmap\u001b[0m\u001b[0;34m(\u001b[0m\u001b[0mint\u001b[0m\u001b[0;34m,\u001b[0m \u001b[0mnumbers\u001b[0m\u001b[0;34m)\u001b[0m\u001b[0;34m)\u001b[0m\u001b[0;34m\u001b[0m\u001b[0m\n\u001b[1;32m     13\u001b[0m \u001b[0mprint\u001b[0m\u001b[0;34m(\u001b[0m\u001b[0mnumbers_as_int\u001b[0m\u001b[0;34m)\u001b[0m\u001b[0;34m\u001b[0m\u001b[0m\n\u001b[0;32m---> 14\u001b[0;31m \u001b[0mprint\u001b[0m\u001b[0;34m(\u001b[0m\u001b[0msum\u001b[0m\u001b[0;34m(\u001b[0m\u001b[0mnumbers\u001b[0m\u001b[0;34m)\u001b[0m\u001b[0;34m)\u001b[0m \u001b[0;31m# Supposed to work\u001b[0m\u001b[0;34m\u001b[0m\u001b[0m\n\u001b[0m",
      "\u001b[0;31mTypeError\u001b[0m: unsupported operand type(s) for +: 'int' and 'str'"
     ]
    }
   ],
   "source": [
    "input = '1,2,4,16'\n",
    "\n",
    "numbers = input.split(\",\")\n",
    "\n",
    "print(numbers)\n",
    "result = 0\n",
    "for number in numbers:\n",
    "    result += int(number)\n",
    "    \n",
    "print(result)\n",
    "\n",
    "numbers_as_int = list(map(int, numbers))\n",
    "print(numbers_as_int)\n",
    "print(sum(numbers)) # Supposed to work"
   ]
  },
  {
   "cell_type": "code",
   "execution_count": 67,
   "metadata": {},
   "outputs": [
    {
     "name": "stdout",
     "output_type": "stream",
     "text": [
      "[<Blatt.BUBE: (2, 4)>, <Blatt.SIEBEN: (0, 0)>, <Blatt.ASS: (11, 7)>, <Blatt.NEUN: (0, 2)>]\n",
      "[4, 0, 7, 2]\n",
      "[0, 2, 4, 7]\n",
      "[<Blatt.SIEBEN: (0, 0)>, <Blatt.NEUN: (0, 2)>, <Blatt.BUBE: (2, 4)>, <Blatt.ASS: (11, 7)>]\n",
      "Blatt.SIEBEN\n"
     ]
    }
   ],
   "source": [
    "from enum import Enum, unique, auto\n",
    "\n",
    "@unique\n",
    "class Blatt(Enum):\n",
    "    SIEBEN = (0, 0)\n",
    "    ACHT = (0, 1)\n",
    "    NEUN = (0, 2)\n",
    "    ZEHN = (10, 3)\n",
    "    BUBE = (2, 4)\n",
    "    DAME = (3, 5)\n",
    "    KOENIG = (4, 6)\n",
    "    ASS = (11, 7)\n",
    "    \n",
    "    # We could ommit the following if we use another inner enum\n",
    "    # instead of tuple values\n",
    "    @staticmethod\n",
    "    def new_card(sorting_value):\n",
    "        for card in list(Blatt):\n",
    "            if card.value[1] == sorting_value:\n",
    "                return card\n",
    "\n",
    "    @staticmethod\n",
    "    def hand_to_values(list_of_enums):\n",
    "        values_of_enum = []\n",
    "        for constant in list_of_enums:\n",
    "            values_of_enum.append(constant.value[1])\n",
    "        return values_of_enum\n",
    "    \n",
    "    @staticmethod\n",
    "    def values_to_hand(values):\n",
    "        hand = []\n",
    "        for value in values:\n",
    "            card = Blatt.new_card(value)\n",
    "            hand.append(card)\n",
    "        return hand\n",
    "    \n",
    "hand = [Blatt.BUBE, Blatt.SIEBEN, Blatt.ASS, Blatt.NEUN]\n",
    "\n",
    "print(hand)\n",
    "values = Blatt.hand_to_values(hand)\n",
    "print(values)\n",
    "sorted_values = sorted(values)\n",
    "print(sorted_values)\n",
    "sorted_hand = Blatt.values_to_hand(sorted_values)\n",
    "print(sorted_hand)\n",
    "\n",
    "print(Blatt((0, 0)))\n"
   ]
  }
 ],
 "metadata": {
  "kernelspec": {
   "display_name": "Python 3",
   "language": "python",
   "name": "python3"
  },
  "language_info": {
   "codemirror_mode": {
    "name": "ipython",
    "version": 3
   },
   "file_extension": ".py",
   "mimetype": "text/x-python",
   "name": "python",
   "nbconvert_exporter": "python",
   "pygments_lexer": "ipython3",
   "version": "3.6.1"
  }
 },
 "nbformat": 4,
 "nbformat_minor": 2
}
